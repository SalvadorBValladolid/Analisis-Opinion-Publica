{
 "cells": [
  {
   "cell_type": "code",
   "execution_count": 1,
   "metadata": {},
   "outputs": [],
   "source": [
    "import pandas as pd\n",
    "import matplotlib.pyplot as plt"
   ]
  },
  {
   "cell_type": "code",
   "execution_count": 2,
   "metadata": {},
   "outputs": [],
   "source": [
    "import glob\n",
    "nombre_archivos=glob.glob(\"/home/rodolfo/Documentos/Analisis-Opinion-Publica-main/data/*.csv\")"
   ]
  },
  {
   "cell_type": "code",
   "execution_count": 3,
   "metadata": {},
   "outputs": [],
   "source": [
    "import unidecode\n",
    "def quitar_acentos(texto):\n",
    "    x = str(texto)\n",
    "    x = unidecode.unidecode(x)\n",
    "    return x\n",
    "data=pd.concat(list(map(lambda x: pd.read_csv(x),nombre_archivos)))\n",
    "data=data.reset_index()\n",
    "data['review_español'] = data['review_español'].apply(quitar_acentos) "
   ]
  },
  {
   "cell_type": "markdown",
   "metadata": {},
   "source": [
    "Ahora vamos a empezar a modelar los datos"
   ]
  },
  {
   "cell_type": "code",
   "execution_count": 4,
   "metadata": {
    "scrolled": false
   },
   "outputs": [
    {
     "data": {
      "text/html": [
       "<div>\n",
       "<style scoped>\n",
       "    .dataframe tbody tr th:only-of-type {\n",
       "        vertical-align: middle;\n",
       "    }\n",
       "\n",
       "    .dataframe tbody tr th {\n",
       "        vertical-align: top;\n",
       "    }\n",
       "\n",
       "    .dataframe thead th {\n",
       "        text-align: right;\n",
       "    }\n",
       "</style>\n",
       "<table border=\"1\" class=\"dataframe\">\n",
       "  <thead>\n",
       "    <tr style=\"text-align: right;\">\n",
       "      <th></th>\n",
       "      <th>index</th>\n",
       "      <th>id</th>\n",
       "      <th>sentiment</th>\n",
       "      <th>review</th>\n",
       "      <th>review_español</th>\n",
       "    </tr>\n",
       "  </thead>\n",
       "  <tbody>\n",
       "    <tr>\n",
       "      <th>0</th>\n",
       "      <td>0</td>\n",
       "      <td>6757_4</td>\n",
       "      <td>0</td>\n",
       "      <td>Odd slasher movie from Producer Charles Band. ...</td>\n",
       "      <td>Pelicula de Slasher Odd del productor Charles ...</td>\n",
       "    </tr>\n",
       "    <tr>\n",
       "      <th>1</th>\n",
       "      <td>1</td>\n",
       "      <td>11307_1</td>\n",
       "      <td>0</td>\n",
       "      <td>The Perfectly Stupid Weapon. I think the guys ...</td>\n",
       "      <td>El arma perfectamente estupida. Creo que los c...</td>\n",
       "    </tr>\n",
       "    <tr>\n",
       "      <th>2</th>\n",
       "      <td>2</td>\n",
       "      <td>9657_10</td>\n",
       "      <td>1</td>\n",
       "      <td>'Presque Rien' ('Come Undone') is an earlier w...</td>\n",
       "      <td>'Presque Rien' ('Ven a deshacer') es un trabaj...</td>\n",
       "    </tr>\n",
       "    <tr>\n",
       "      <th>3</th>\n",
       "      <td>3</td>\n",
       "      <td>7652_3</td>\n",
       "      <td>0</td>\n",
       "      <td>In 1967, mine workers find the remnants of an ...</td>\n",
       "      <td>En 1967, los trabajadores de los mios encuentr...</td>\n",
       "    </tr>\n",
       "    <tr>\n",
       "      <th>4</th>\n",
       "      <td>4</td>\n",
       "      <td>584_8</td>\n",
       "      <td>1</td>\n",
       "      <td>Excellent film dealing with the life of an old...</td>\n",
       "      <td>Excelente pelicula que lucha con la vida de un...</td>\n",
       "    </tr>\n",
       "  </tbody>\n",
       "</table>\n",
       "</div>"
      ],
      "text/plain": [
       "   index       id  sentiment  \\\n",
       "0      0   6757_4          0   \n",
       "1      1  11307_1          0   \n",
       "2      2  9657_10          1   \n",
       "3      3   7652_3          0   \n",
       "4      4    584_8          1   \n",
       "\n",
       "                                              review  \\\n",
       "0  Odd slasher movie from Producer Charles Band. ...   \n",
       "1  The Perfectly Stupid Weapon. I think the guys ...   \n",
       "2  'Presque Rien' ('Come Undone') is an earlier w...   \n",
       "3  In 1967, mine workers find the remnants of an ...   \n",
       "4  Excellent film dealing with the life of an old...   \n",
       "\n",
       "                                      review_español  \n",
       "0  Pelicula de Slasher Odd del productor Charles ...  \n",
       "1  El arma perfectamente estupida. Creo que los c...  \n",
       "2  'Presque Rien' ('Ven a deshacer') es un trabaj...  \n",
       "3  En 1967, los trabajadores de los mios encuentr...  \n",
       "4  Excelente pelicula que lucha con la vida de un...  "
      ]
     },
     "execution_count": 4,
     "metadata": {},
     "output_type": "execute_result"
    }
   ],
   "source": [
    "data.head()"
   ]
  },
  {
   "cell_type": "code",
   "execution_count": 5,
   "metadata": {},
   "outputs": [],
   "source": [
    "split = 0.85\n",
    "d_train = data[:int(split*len(data))]\n",
    "d_test = data[int((1-split)*len(data)):]"
   ]
  },
  {
   "cell_type": "code",
   "execution_count": 6,
   "metadata": {},
   "outputs": [],
   "source": [
    "from sklearn.feature_extraction.text import CountVectorizer\n",
    "vectorizer = CountVectorizer()"
   ]
  },
  {
   "cell_type": "code",
   "execution_count": 7,
   "metadata": {},
   "outputs": [],
   "source": [
    "features = vectorizer.fit_transform(d_train[\"review_español\"])\n",
    "test_features = vectorizer.transform(d_test[\"review_español\"])\n",
    "i = 45000\n",
    "j = 10\n",
    "words = vectorizer.get_feature_names()[i:i+10]\n",
    "#pd.DataFrame(features[j:j+7,i:i+10].todense(), columns=words)"
   ]
  },
  {
   "cell_type": "code",
   "execution_count": 8,
   "metadata": {},
   "outputs": [],
   "source": [
    "from sklearn.naive_bayes import MultinomialNB\n",
    "model1 = MultinomialNB()\n",
    "model1.fit(features, d_train[\"sentiment\"])\n",
    "pred1 = model1.predict_proba(test_features)"
   ]
  },
  {
   "cell_type": "code",
   "execution_count": 9,
   "metadata": {},
   "outputs": [],
   "source": [
    "from sklearn.metrics import accuracy_score, roc_auc_score, roc_curve\n",
    "def performance(y_true, pred, color=\"g\", ann=True):\n",
    "    acc = accuracy_score(y_true, pred[:,1] > 0.5)\n",
    "    auc = roc_auc_score(y_true, pred[:,1])\n",
    "    fpr, tpr, thr = roc_curve(y_true, pred[:,1])\n",
    "    plt.plot(fpr, tpr, color, linewidth=\"3\")\n",
    "    plt.xlabel(\"False positive rate\")\n",
    "    plt.ylabel(\"True positive rate\")\n",
    "    if ann:\n",
    "        plt.annotate(\"Acc: %0.2f\" % acc, (0.2,0.7), size=14)\n",
    "        plt.annotate(\"AUC: %0.2f\" % auc, (0.2,0.6), size=14)"
   ]
  },
  {
   "cell_type": "code",
   "execution_count": 10,
   "metadata": {},
   "outputs": [
    {
     "data": {
      "image/png": "[encoded data removed]",
      "text/plain": [
       "<Figure size 432x288 with 1 Axes>"
      ]
     },
     "metadata": {
      "needs_background": "light"
     },
     "output_type": "display_data"
    }
   ],
   "source": [
    "performance(d_test[\"sentiment\"], pred1)"
   ]
  },
  {
   "cell_type": "code",
   "execution_count": 11,
   "metadata": {},
   "outputs": [
    {
     "data": {
      "text/plain": [
       "array([1])"
      ]
     },
     "execution_count": 11,
     "metadata": {},
     "output_type": "execute_result"
    }
   ],
   "source": [
    "model1.predict(vectorizer.transform([quitar_acentos(\"feliz cumpleaños alfredo que sigas teniendo muchas bendiciones y exitos en tu vida, nada es imposible\")]))"
   ]
  },
  {
   "cell_type": "code",
   "execution_count": 12,
   "metadata": {},
   "outputs": [
    {
     "data": {
      "text/plain": [
       "array([0])"
      ]
     },
     "execution_count": 12,
     "metadata": {},
     "output_type": "execute_result"
    }
   ],
   "source": [
    "model1.predict(vectorizer.transform([quitar_acentos(\"estúpido\")]))"
   ]
  }
 ],
 "metadata": {
  "kernelspec": {
   "display_name": "Python 3",
   "language": "python",
   "name": "python3"
  },
  "language_info": {
   "codemirror_mode": {
    "name": "ipython",
    "version": 3
   },
   "file_extension": ".py",
   "mimetype": "text/x-python",
   "name": "python",
   "nbconvert_exporter": "python",
   "pygments_lexer": "ipython3",
   "version": "3.8.5"
  }
 },
 "nbformat": 4,
 "nbformat_minor": 4
}
